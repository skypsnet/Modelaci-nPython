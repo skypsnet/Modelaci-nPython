{
 "cells": [
  {
   "cell_type": "markdown",
   "id": "e67da495",
   "metadata": {},
   "source": [
    "# Ejercicio 1:flujo de calor"
   ]
  },
  {
   "cell_type": "code",
   "execution_count": 98,
   "id": "a8dafd33",
   "metadata": {},
   "outputs": [],
   "source": [
    "import numpy as np\n",
    "import matplotlib.pyplot as plt"
   ]
  },
  {
   "cell_type": "code",
   "execution_count": 99,
   "id": "312f1a34",
   "metadata": {},
   "outputs": [],
   "source": [
    "def buildMatrix(N):\n",
    "# Matriz de ceros\n",
    " A = np.zeros((N,N))\n",
    "# Primer rengl ́on\n",
    " A[0,0] = 2\n",
    " A[0,1] = -1\n",
    "# Renglones interiores\n",
    " for i in range(1,N-1):\n",
    "  A[i,i] = 2\n",
    "  A[i,i+1] = -1\n",
    "  A[i,i-1] = -1\n",
    "#  ́Ultimo rengl ́on\n",
    " A[N-1,N-2] = -1\n",
    " A[N-1,N-1] = 2\n",
    " return A"
   ]
  },
  {
   "cell_type": "code",
   "execution_count": 100,
   "id": "1cfd10eb",
   "metadata": {},
   "outputs": [],
   "source": [
    "# Parámetros físicos\n",
    "L = 1.0\n",
    "TA = 1\n",
    "TB = 0\n",
    "k = 1.0\n",
    "S = 0.0"
   ]
  },
  {
   "cell_type": "code",
   "execution_count": 101,
   "id": "260a1427",
   "metadata": {},
   "outputs": [],
   "source": [
    "#Parámetros numéricos\n",
    "N = 4\n",
    "h = L/(N+1)\n",
    "r = k/h**2"
   ]
  },
  {
   "cell_type": "code",
   "execution_count": 102,
   "id": "bc55028b",
   "metadata": {},
   "outputs": [],
   "source": [
    "#Arreglo para almacenar la solución\n",
    "T = np.zeros(N+2)\n",
    "T[0] = TA\n",
    "T[-1] = TB"
   ]
  },
  {
   "cell_type": "code",
   "execution_count": 103,
   "id": "10fa7477",
   "metadata": {},
   "outputs": [],
   "source": [
    "b = np.zeros(N)\n",
    "b[:] = S/r\n",
    "b[0] += T[0]\n",
    "b[-1] += T[-1]\n",
    "\n",
    "\n",
    "#Construcción de la matriz\n",
    "A = buildMatrix(N)\n",
    "\n",
    "#Solución del sistema lineal\n",
    "T[1:N+1] = np.linalg.solve(A,b)"
   ]
  },
  {
   "cell_type": "code",
   "execution_count": 104,
   "id": "5cb71fbf",
   "metadata": {
    "scrolled": true
   },
   "outputs": [
    {
     "name": "stdout",
     "output_type": "stream",
     "text": [
      "[1.  0.8 0.6 0.4 0.2 0. ]\n"
     ]
    },
    {
     "data": {
      "text/plain": [
       "Text(0, 0.5, '$T$')"
      ]
     },
     "execution_count": 104,
     "metadata": {},
     "output_type": "execute_result"
    },
    {
     "data": {
      "image/png": "[encoded data removed]",
      "text/plain": [
       "<Figure size 720x504 with 1 Axes>"
      ]
     },
     "metadata": {
      "needs_background": "light"
     },
     "output_type": "display_data"
    }
   ],
   "source": [
    "print(T)\n",
    "x = np.linspace(0,L, N+2)\n",
    "plt.figure(figsize = (10,7))\n",
    "plt.plot(x, T, c='grey', lw=2.0)\n",
    "plt.scatter(x,T, edgecolor='k', zorder=10)\n",
    "plt.xlabel('$x4$')\n",
    "plt.ylabel('$T$')"
   ]
  },
  {
   "cell_type": "code",
   "execution_count": null,
   "id": "e533d200",
   "metadata": {},
   "outputs": [],
   "source": []
  },
  {
   "cell_type": "code",
   "execution_count": null,
   "id": "94809723",
   "metadata": {},
   "outputs": [],
   "source": []
  }
 ],
 "metadata": {
  "kernelspec": {
   "display_name": "Python 3 (ipykernel)",
   "language": "python",
   "name": "python3"
  },
  "language_info": {
   "codemirror_mode": {
    "name": "ipython",
    "version": 3
   },
   "file_extension": ".py",
   "mimetype": "text/x-python",
   "name": "python",
   "nbconvert_exporter": "python",
   "pygments_lexer": "ipython3",
   "version": "3.9.5"
  }
 },
 "nbformat": 4,
 "nbformat_minor": 5
}
